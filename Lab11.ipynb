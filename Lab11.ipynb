{
 "cells": [
  {
   "cell_type": "code",
   "execution_count": 1,
   "id": "00826816-19b1-4753-b2e1-bc0c508479cd",
   "metadata": {},
   "outputs": [
    {
     "name": "stdout",
     "output_type": "stream",
     "text": [
      "torch.Size([2, 10, 128])\n"
     ]
    }
   ],
   "source": [
    "# Program 11\n",
    "\n",
    "import torch\n",
    "import torch.nn as nn\n",
    "\n",
    "class MultiHeadAttention(nn.Module):\n",
    "    def __init__(self, embed_size, heads):\n",
    "        super(MultiHeadAttention, self).__init__()\n",
    "        self.embed_size = embed_size\n",
    "        self.heads = heads\n",
    "        self.head_dim = embed_size // heads\n",
    "\n",
    "        assert self.head_dim * heads == embed_size, \"Embedding size must be divisible by heads\"\n",
    "\n",
    "        # Linear layers to project input into Q, K, V\n",
    "        self.values = nn.Linear(embed_size, embed_size)\n",
    "        self.keys = nn.Linear(embed_size, embed_size)\n",
    "        self.queries = nn.Linear(embed_size, embed_size)\n",
    "        self.fc_out = nn.Linear(embed_size, embed_size)  # Final projection\n",
    "\n",
    "    def forward(self, value, key, query, mask=None):\n",
    "        N = query.shape[0]  # Batch size\n",
    "        value_len, key_len, query_len = value.shape[1], key.shape[1], query.shape[1]\n",
    "\n",
    "        # Transform input into multiple heads\n",
    "        values = self.values(value).view(N, value_len, self.heads, self.head_dim).transpose(1, 2)\n",
    "        keys = self.keys(key).view(N, key_len, self.heads, self.head_dim).transpose(1, 2)\n",
    "        queries = self.queries(query).view(N, query_len, self.heads, self.head_dim).transpose(1, 2)\n",
    "\n",
    "        # Scaled Dot-Product Attention\n",
    "        energy = torch.matmul(queries, keys.transpose(-2, -1)) / (self.head_dim ** 0.5)\n",
    "\n",
    "        if mask is not None:\n",
    "            energy = energy.masked_fill(mask == 0, float(\"-1e20\"))  # Masking for padding tokens\n",
    "\n",
    "        attention = torch.softmax(energy, dim=-1)\n",
    "\n",
    "        out = torch.matmul(attention, values)\n",
    "        out = out.transpose(1, 2).contiguous().view(N, query_len, self.embed_size)\n",
    "\n",
    "        return self.fc_out(out)  # Final linear layer\n",
    "\n",
    "\n",
    "embed_size = 128  # Dimension of embeddings\n",
    "heads = 8  # Number of attention heads\n",
    "attention = MultiHeadAttention(embed_size, heads)\n",
    "\n",
    "x = torch.rand(2, 10, embed_size)  # (batch_size=2, seq_len=10, embed_size=128)\n",
    "output = attention(x, x, x)\n",
    "print(output.shape)"
   ]
  },
  {
   "cell_type": "code",
   "execution_count": null,
   "id": "1d625bea-6db0-48ec-a1eb-d9b1037d2ee0",
   "metadata": {},
   "outputs": [],
   "source": []
  }
 ],
 "metadata": {
  "kernelspec": {
   "display_name": "Python 3 (ipykernel)",
   "language": "python",
   "name": "python3"
  },
  "language_info": {
   "codemirror_mode": {
    "name": "ipython",
    "version": 3
   },
   "file_extension": ".py",
   "mimetype": "text/x-python",
   "name": "python",
   "nbconvert_exporter": "python",
   "pygments_lexer": "ipython3",
   "version": "3.11.9"
  }
 },
 "nbformat": 4,
 "nbformat_minor": 5
}
