{
 "cells": [
  {
   "cell_type": "code",
   "execution_count": 2,
   "id": "00826816-19b1-4753-b2e1-bc0c508479cd",
   "metadata": {},
   "outputs": [
    {
     "name": "stdout",
     "output_type": "stream",
     "text": [
      "Accuracy without BN & Dropout: 97.82%\n",
      "Accuracy with Batch Normalization: 97.70%\n",
      "Accuracy with Dropout: 97.45%\n"
     ]
    }
   ],
   "source": [
    "# Program 4: Study the effect of batch normalization and dropout in neural network classifier.\n",
    "import torch\n",
    "import torch.nn as nn\n",
    "import torch.optim as optim\n",
    "import torchvision\n",
    "import torchvision.transforms as transforms\n",
    "from torch.utils.data import DataLoader\n",
    "\n",
    "# Load MNIST Dataset\n",
    "transform = transforms.Compose([transforms.ToTensor()])\n",
    "train_dataset = torchvision.datasets.MNIST(root='./data', train=True, download=True, transform=transform)\n",
    "test_dataset = torchvision.datasets.MNIST(root='./data', train=False, download=True, transform=transform)\n",
    "\n",
    "train_loader = DataLoader(train_dataset, batch_size=64, shuffle=True)\n",
    "test_loader = DataLoader(test_dataset, batch_size=64, shuffle=False)\n",
    "\n",
    "# Define a Simple Feedforward Neural Network\n",
    "class SimpleNN(nn.Module):\n",
    "    def __init__(self, use_bn=False, use_dropout=False):\n",
    "        super(SimpleNN, self).__init__()\n",
    "        self.fc1 = nn.Linear(28*28, 256)\n",
    "        self.bn1 = nn.BatchNorm1d(256) if use_bn else nn.Identity()\n",
    "        self.dropout1 = nn.Dropout(0.5) if use_dropout else nn.Identity()\n",
    "        self.fc2 = nn.Linear(256, 10)\n",
    "\n",
    "    def forward(self, x):\n",
    "        x = x.view(-1, 28*28)  # Flatten input\n",
    "        x = self.fc1(x)\n",
    "        x = self.bn1(x)   # Apply Batch Norm (if enabled)\n",
    "        x = torch.relu(x)\n",
    "        x = self.dropout1(x)  # Apply Dropout (if enabled)\n",
    "        x = self.fc2(x)\n",
    "        return x\n",
    "\n",
    "def train_and_evaluate(model, optimizer, criterion, epochs=5):\n",
    "    for epoch in range(epochs):\n",
    "        model.train()\n",
    "        for images, labels in train_loader:\n",
    "            optimizer.zero_grad()\n",
    "            output = model(images)\n",
    "            loss = criterion(output, labels)\n",
    "            loss.backward()\n",
    "            optimizer.step()\n",
    "\n",
    "    # Evaluate the model\n",
    "    model.eval()\n",
    "    correct = 0\n",
    "    total = 0\n",
    "    with torch.no_grad():\n",
    "        for images, labels in test_loader:\n",
    "            output = model(images)\n",
    "            _, predicted = torch.max(output, 1)\n",
    "            correct += (predicted == labels).sum().item()\n",
    "            total += labels.size(0)\n",
    "\n",
    "    accuracy = 100 * correct / total\n",
    "    return accuracy\n",
    "\n",
    "model_basic = SimpleNN()\n",
    "model_bn = SimpleNN(use_bn=True)\n",
    "model_dropout = SimpleNN(use_dropout=True)\n",
    "\n",
    "# Define Loss and Optimizer\n",
    "criterion = nn.CrossEntropyLoss()\n",
    "optimizer_basic = optim.Adam(model_basic.parameters(), lr=0.001)\n",
    "optimizer_bn = optim.Adam(model_bn.parameters(), lr=0.001)\n",
    "optimizer_dropout = optim.Adam(model_dropout.parameters(), lr=0.001)\n",
    "\n",
    "# Train and Evaluate Models\n",
    "acc_basic = train_and_evaluate(model_basic, optimizer_basic, criterion)\n",
    "acc_bn = train_and_evaluate(model_bn, optimizer_bn, criterion)\n",
    "acc_dropout = train_and_evaluate(model_dropout, optimizer_dropout, criterion)\n",
    "\n",
    "\n",
    "print(f\"Accuracy without BN & Dropout: {acc_basic:.2f}%\")\n",
    "print(f\"Accuracy with Batch Normalization: {acc_bn:.2f}%\")\n",
    "print(f\"Accuracy with Dropout: {acc_dropout:.2f}%\")"
   ]
  },
  {
   "cell_type": "code",
   "execution_count": null,
   "id": "84946625-ecc2-478d-b166-ce68041cc6f9",
   "metadata": {},
   "outputs": [],
   "source": []
  }
 ],
 "metadata": {
  "kernelspec": {
   "display_name": "Python 3 (ipykernel)",
   "language": "python",
   "name": "python3"
  },
  "language_info": {
   "codemirror_mode": {
    "name": "ipython",
    "version": 3
   },
   "file_extension": ".py",
   "mimetype": "text/x-python",
   "name": "python",
   "nbconvert_exporter": "python",
   "pygments_lexer": "ipython3",
   "version": "3.11.9"
  }
 },
 "nbformat": 4,
 "nbformat_minor": 5
}
