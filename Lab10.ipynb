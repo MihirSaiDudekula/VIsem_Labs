{
 "cells": [
  {
   "cell_type": "code",
   "execution_count": 1,
   "id": "00826816-19b1-4753-b2e1-bc0c508479cd",
   "metadata": {},
   "outputs": [
    {
     "name": "stdout",
     "output_type": "stream",
     "text": [
      "\n",
      "Generated Text:\n",
      "hello word, this is asimple text generation using LSTMs..ee\n"
     ]
    }
   ],
   "source": [
    "# Program 10\n",
    "\n",
    "import torch\n",
    "import torch.nn as nn\n",
    "import torch.optim as optim\n",
    "\n",
    "text = \"hello world, this is a simple text generation using LSTMs.\"\n",
    "\n",
    "# character vocabulary\n",
    "chars = sorted(set(text))  # Unique characters\n",
    "char_to_idx = {c: i for i, c in enumerate(chars)}\n",
    "idx_to_char = {i: c for i, c in enumerate(chars)}\n",
    "\n",
    "# Convert text into sequences\n",
    "seq_length = 10\n",
    "data_X, data_Y = [], []\n",
    "for i in range(len(text) - seq_length):\n",
    "    input_seq = text[i:i+seq_length]\n",
    "    target_char = text[i+seq_length]\n",
    "    data_X.append([char_to_idx[c] for c in input_seq])\n",
    "    data_Y.append(char_to_idx[target_char])\n",
    "\n",
    "# Convert to PyTorch tensors\n",
    "X_train = torch.tensor(data_X, dtype=torch.long)\n",
    "y_train = torch.tensor(data_Y, dtype=torch.long)\n",
    "\n",
    "\n",
    "class TextLSTM(nn.Module):\n",
    "    def __init__(self, vocab_size, embed_size, hidden_size):\n",
    "        super(TextLSTM, self).__init__()\n",
    "        self.embedding = nn.Embedding(vocab_size, embed_size)\n",
    "        self.lstm = nn.LSTM(embed_size, hidden_size, batch_first=True)\n",
    "        self.fc = nn.Linear(hidden_size, vocab_size)\n",
    "\n",
    "    def forward(self, x):\n",
    "        x = self.embedding(x)\n",
    "        lstm_out, _ = self.lstm(x)\n",
    "        out = self.fc(lstm_out[:, -1, :])  # Take last output for prediction\n",
    "        return out\n",
    "\n",
    "vocab_size = len(chars)\n",
    "embed_size = 16\n",
    "hidden_size = 128\n",
    "model = TextLSTM(vocab_size, embed_size, hidden_size)\n",
    "criterion = nn.CrossEntropyLoss()\n",
    "optimizer = optim.Adam(model.parameters(), lr=0.01)\n",
    "\n",
    "num_epochs = 50\n",
    "for epoch in range(num_epochs):\n",
    "    optimizer.zero_grad()\n",
    "    outputs = model(X_train)\n",
    "    loss = criterion(outputs, y_train)\n",
    "    loss.backward()\n",
    "    optimizer.step()\n",
    "\n",
    "\n",
    "def generate_text(start_seq, length=50):\n",
    "    model.eval()\n",
    "    input_seq = [char_to_idx[c] for c in start_seq]\n",
    "    input_tensor = torch.tensor([input_seq], dtype=torch.long)\n",
    "    generated_text = start_seq\n",
    "    for _ in range(length):\n",
    "        with torch.no_grad():\n",
    "            output = model(input_tensor)\n",
    "            predicted_idx = torch.argmax(output, dim=1).item()\n",
    "            predicted_char = idx_to_char[predicted_idx]\n",
    "            generated_text += predicted_char\n",
    "            input_tensor = torch.tensor([[*input_seq[1:], predicted_idx]], dtype=torch.long)\n",
    "            input_seq = input_seq[1:] + [predicted_idx]\n",
    "    return generated_text\n",
    "\n",
    "\n",
    "print(\"\\nGenerated Text:\")\n",
    "print(generate_text(\"hello wor\", 50))"
   ]
  },
  {
   "cell_type": "code",
   "execution_count": null,
   "id": "926d2ad6-dfdd-4f63-897f-e47054d23a0a",
   "metadata": {},
   "outputs": [],
   "source": []
  }
 ],
 "metadata": {
  "kernelspec": {
   "display_name": "Python 3 (ipykernel)",
   "language": "python",
   "name": "python3"
  },
  "language_info": {
   "codemirror_mode": {
    "name": "ipython",
    "version": 3
   },
   "file_extension": ".py",
   "mimetype": "text/x-python",
   "name": "python",
   "nbconvert_exporter": "python",
   "pygments_lexer": "ipython3",
   "version": "3.11.9"
  }
 },
 "nbformat": 4,
 "nbformat_minor": 5
}
